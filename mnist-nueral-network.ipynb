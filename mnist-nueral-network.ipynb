{
 "cells": [
  {
   "cell_type": "code",
   "execution_count": 1,
   "id": "9458b53e",
   "metadata": {
    "_cell_guid": "b1076dfc-b9ad-4769-8c92-a6c4dae69d19",
    "_uuid": "8f2839f25d086af736a60e9eeb907d3b93b6e0e5",
    "execution": {
     "iopub.execute_input": "2024-07-09T04:05:17.610768Z",
     "iopub.status.busy": "2024-07-09T04:05:17.610353Z",
     "iopub.status.idle": "2024-07-09T04:05:22.622591Z",
     "shell.execute_reply": "2024-07-09T04:05:22.621345Z"
    },
    "papermill": {
     "duration": 5.022031,
     "end_time": "2024-07-09T04:05:22.625557",
     "exception": false,
     "start_time": "2024-07-09T04:05:17.603526",
     "status": "completed"
    },
    "tags": []
   },
   "outputs": [],
   "source": [
    "import numpy as np\n",
    "import pandas as pd\n",
    "from matplotlib import pyplot as plt\n",
    "\n",
    "data = pd.read_csv('/kaggle/input/digit-recognizer/train.csv')"
   ]
  },
  {
   "cell_type": "code",
   "execution_count": 2,
   "id": "6d6888e8",
   "metadata": {
    "execution": {
     "iopub.execute_input": "2024-07-09T04:05:22.637231Z",
     "iopub.status.busy": "2024-07-09T04:05:22.636530Z",
     "iopub.status.idle": "2024-07-09T04:05:23.510751Z",
     "shell.execute_reply": "2024-07-09T04:05:23.509642Z"
    },
    "papermill": {
     "duration": 0.882855,
     "end_time": "2024-07-09T04:05:23.513485",
     "exception": false,
     "start_time": "2024-07-09T04:05:22.630630",
     "status": "completed"
    },
    "tags": []
   },
   "outputs": [],
   "source": [
    "data = np.array(data)\n",
    "m, n = data.shape\n",
    "np.random.shuffle(data) # shuffle before splitting into dev and training sets\n",
    "\n",
    "data_dev = data[0:1000].T\n",
    "Y_dev = data_dev[0]\n",
    "X_dev = data_dev[1:n]\n",
    "X_dev = X_dev / 255.\n",
    "\n",
    "data_train = data[1000:m].T\n",
    "Y_train = data_train[0]\n",
    "X_train = data_train[1:n]\n",
    "X_train = X_train / 255.\n",
    "_,m_train = X_train.shape"
   ]
  },
  {
   "cell_type": "code",
   "execution_count": 3,
   "id": "6bd52b7e",
   "metadata": {
    "execution": {
     "iopub.execute_input": "2024-07-09T04:05:23.523702Z",
     "iopub.status.busy": "2024-07-09T04:05:23.523296Z",
     "iopub.status.idle": "2024-07-09T04:05:23.533676Z",
     "shell.execute_reply": "2024-07-09T04:05:23.532462Z"
    },
    "papermill": {
     "duration": 0.018546,
     "end_time": "2024-07-09T04:05:23.536260",
     "exception": false,
     "start_time": "2024-07-09T04:05:23.517714",
     "status": "completed"
    },
    "tags": []
   },
   "outputs": [
    {
     "data": {
      "text/plain": [
       "array([5, 1, 0, ..., 4, 2, 3])"
      ]
     },
     "execution_count": 3,
     "metadata": {},
     "output_type": "execute_result"
    }
   ],
   "source": [
    "Y_train"
   ]
  },
  {
   "cell_type": "code",
   "execution_count": 4,
   "id": "6d4f9f2f",
   "metadata": {
    "execution": {
     "iopub.execute_input": "2024-07-09T04:05:23.547188Z",
     "iopub.status.busy": "2024-07-09T04:05:23.546768Z",
     "iopub.status.idle": "2024-07-09T04:05:23.561773Z",
     "shell.execute_reply": "2024-07-09T04:05:23.560719Z"
    },
    "papermill": {
     "duration": 0.023651,
     "end_time": "2024-07-09T04:05:23.564382",
     "exception": false,
     "start_time": "2024-07-09T04:05:23.540731",
     "status": "completed"
    },
    "tags": []
   },
   "outputs": [],
   "source": [
    "def init_params():\n",
    "    W1 = np.random.rand(10, 784) - 0.5\n",
    "    b1 = np.random.rand(10, 1) - 0.5\n",
    "    W2 = np.random.rand(10, 10) - 0.5\n",
    "    b2 = np.random.rand(10, 1) - 0.5\n",
    "    return W1, b1, W2, b2\n",
    "\n",
    "def ReLU(Z):\n",
    "    return np.maximum(Z, 0)\n",
    "\n",
    "def softmax(Z):\n",
    "    A = np.exp(Z) / sum(np.exp(Z))\n",
    "    return A\n",
    "    \n",
    "def forward_prop(W1, b1, W2, b2, X):\n",
    "    Z1 = W1.dot(X) + b1\n",
    "    A1 = ReLU(Z1)\n",
    "    Z2 = W2.dot(A1) + b2\n",
    "    A2 = softmax(Z2)\n",
    "    return Z1, A1, Z2, A2\n",
    "\n",
    "def ReLU_deriv(Z):\n",
    "    return Z > 0\n",
    "\n",
    "def one_hot(Y):\n",
    "    one_hot_Y = np.zeros((Y.size, Y.max() + 1))\n",
    "    one_hot_Y[np.arange(Y.size), Y] = 1\n",
    "    one_hot_Y = one_hot_Y.T\n",
    "    return one_hot_Y\n",
    "\n",
    "def backward_prop(Z1, A1, Z2, A2, W1, W2, X, Y):\n",
    "    one_hot_Y = one_hot(Y)\n",
    "    dZ2 = A2 - one_hot_Y\n",
    "    dW2 = 1 / m * dZ2.dot(A1.T)\n",
    "    db2 = 1 / m * np.sum(dZ2)\n",
    "    dZ1 = W2.T.dot(dZ2) * ReLU_deriv(Z1)\n",
    "    dW1 = 1 / m * dZ1.dot(X.T)\n",
    "    db1 = 1 / m * np.sum(dZ1)\n",
    "    return dW1, db1, dW2, db2\n",
    "\n",
    "def update_params(W1, b1, W2, b2, dW1, db1, dW2, db2, alpha):\n",
    "    W1 = W1 - alpha * dW1\n",
    "    b1 = b1 - alpha * db1    \n",
    "    W2 = W2 - alpha * dW2  \n",
    "    b2 = b2 - alpha * db2    \n",
    "    return W1, b1, W2, b2"
   ]
  },
  {
   "cell_type": "code",
   "execution_count": 5,
   "id": "4aa90a0a",
   "metadata": {
    "execution": {
     "iopub.execute_input": "2024-07-09T04:05:23.575399Z",
     "iopub.status.busy": "2024-07-09T04:05:23.574899Z",
     "iopub.status.idle": "2024-07-09T04:05:23.584699Z",
     "shell.execute_reply": "2024-07-09T04:05:23.583493Z"
    },
    "papermill": {
     "duration": 0.018448,
     "end_time": "2024-07-09T04:05:23.587453",
     "exception": false,
     "start_time": "2024-07-09T04:05:23.569005",
     "status": "completed"
    },
    "tags": []
   },
   "outputs": [],
   "source": [
    "def get_predictions(A2):\n",
    "    return np.argmax(A2, 0)\n",
    "\n",
    "def get_accuracy(predictions, Y):\n",
    "    print(predictions, Y)\n",
    "    return np.sum(predictions == Y) / Y.size\n",
    "\n",
    "def gradient_descent(X, Y, alpha, iterations):\n",
    "    W1, b1, W2, b2 = init_params()\n",
    "    for i in range(iterations):\n",
    "        Z1, A1, Z2, A2 = forward_prop(W1, b1, W2, b2, X)\n",
    "        dW1, db1, dW2, db2 = backward_prop(Z1, A1, Z2, A2, W1, W2, X, Y)\n",
    "        W1, b1, W2, b2 = update_params(W1, b1, W2, b2, dW1, db1, dW2, db2, alpha)\n",
    "        if i % 10 == 0:\n",
    "            print(\"Iteration: \", i)\n",
    "            predictions = get_predictions(A2)\n",
    "            print(get_accuracy(predictions, Y))\n",
    "    return W1, b1, W2, b2"
   ]
  },
  {
   "cell_type": "code",
   "execution_count": 6,
   "id": "eccece2a",
   "metadata": {
    "execution": {
     "iopub.execute_input": "2024-07-09T04:05:23.598375Z",
     "iopub.status.busy": "2024-07-09T04:05:23.597526Z",
     "iopub.status.idle": "2024-07-09T04:06:23.964907Z",
     "shell.execute_reply": "2024-07-09T04:06:23.963329Z"
    },
    "papermill": {
     "duration": 60.377356,
     "end_time": "2024-07-09T04:06:23.969187",
     "exception": false,
     "start_time": "2024-07-09T04:05:23.591831",
     "status": "completed"
    },
    "tags": []
   },
   "outputs": [
    {
     "name": "stdout",
     "output_type": "stream",
     "text": [
      "Iteration:  0\n",
      "[3 3 3 ... 3 0 3] [5 1 0 ... 4 2 3]\n",
      "0.10670731707317073\n",
      "Iteration:  10\n",
      "[5 6 0 ... 4 2 3] [5 1 0 ... 4 2 3]\n",
      "0.2456341463414634\n",
      "Iteration:  20\n",
      "[5 6 0 ... 4 2 3] [5 1 0 ... 4 2 3]\n",
      "0.31234146341463415\n",
      "Iteration:  30\n",
      "[5 3 0 ... 4 2 3] [5 1 0 ... 4 2 3]\n",
      "0.3784878048780488\n",
      "Iteration:  40\n",
      "[5 3 0 ... 4 2 3] [5 1 0 ... 4 2 3]\n",
      "0.46402439024390246\n",
      "Iteration:  50\n",
      "[5 1 0 ... 4 2 3] [5 1 0 ... 4 2 3]\n",
      "0.5260487804878049\n",
      "Iteration:  60\n",
      "[5 1 0 ... 4 2 3] [5 1 0 ... 4 2 3]\n",
      "0.5737560975609756\n",
      "Iteration:  70\n",
      "[5 1 0 ... 4 2 3] [5 1 0 ... 4 2 3]\n",
      "0.6118048780487805\n",
      "Iteration:  80\n",
      "[5 1 0 ... 4 2 3] [5 1 0 ... 4 2 3]\n",
      "0.642609756097561\n",
      "Iteration:  90\n",
      "[5 1 0 ... 4 2 3] [5 1 0 ... 4 2 3]\n",
      "0.6669512195121952\n",
      "Iteration:  100\n",
      "[5 1 0 ... 4 2 3] [5 1 0 ... 4 2 3]\n",
      "0.687\n",
      "Iteration:  110\n",
      "[5 1 0 ... 4 2 3] [5 1 0 ... 4 2 3]\n",
      "0.7040975609756097\n",
      "Iteration:  120\n",
      "[5 1 0 ... 4 2 3] [5 1 0 ... 4 2 3]\n",
      "0.7210731707317073\n",
      "Iteration:  130\n",
      "[5 1 0 ... 4 2 3] [5 1 0 ... 4 2 3]\n",
      "0.7350487804878049\n",
      "Iteration:  140\n",
      "[5 1 0 ... 4 2 3] [5 1 0 ... 4 2 3]\n",
      "0.7484390243902439\n",
      "Iteration:  150\n",
      "[5 1 0 ... 4 2 3] [5 1 0 ... 4 2 3]\n",
      "0.7595853658536585\n",
      "Iteration:  160\n",
      "[5 1 0 ... 4 2 3] [5 1 0 ... 4 2 3]\n",
      "0.7687073170731707\n",
      "Iteration:  170\n",
      "[5 1 0 ... 4 2 3] [5 1 0 ... 4 2 3]\n",
      "0.7775365853658537\n",
      "Iteration:  180\n",
      "[5 1 0 ... 4 2 3] [5 1 0 ... 4 2 3]\n",
      "0.7849268292682927\n",
      "Iteration:  190\n",
      "[5 1 0 ... 4 2 3] [5 1 0 ... 4 2 3]\n",
      "0.7909268292682927\n",
      "Iteration:  200\n",
      "[5 1 0 ... 4 2 3] [5 1 0 ... 4 2 3]\n",
      "0.7965609756097561\n",
      "Iteration:  210\n",
      "[5 1 0 ... 4 2 3] [5 1 0 ... 4 2 3]\n",
      "0.8014146341463415\n",
      "Iteration:  220\n",
      "[5 1 0 ... 4 2 3] [5 1 0 ... 4 2 3]\n",
      "0.8058048780487805\n",
      "Iteration:  230\n",
      "[5 1 0 ... 4 2 3] [5 1 0 ... 4 2 3]\n",
      "0.810609756097561\n",
      "Iteration:  240\n",
      "[5 1 0 ... 4 2 3] [5 1 0 ... 4 2 3]\n",
      "0.8150243902439024\n",
      "Iteration:  250\n",
      "[5 1 0 ... 4 2 3] [5 1 0 ... 4 2 3]\n",
      "0.8189512195121951\n",
      "Iteration:  260\n",
      "[5 1 0 ... 4 2 3] [5 1 0 ... 4 2 3]\n",
      "0.8224146341463414\n",
      "Iteration:  270\n",
      "[5 1 0 ... 4 2 3] [5 1 0 ... 4 2 3]\n",
      "0.8258048780487804\n",
      "Iteration:  280\n",
      "[5 1 0 ... 4 2 3] [5 1 0 ... 4 2 3]\n",
      "0.8282682926829268\n",
      "Iteration:  290\n",
      "[5 1 0 ... 4 2 3] [5 1 0 ... 4 2 3]\n",
      "0.8314390243902439\n",
      "Iteration:  300\n",
      "[5 1 0 ... 4 2 3] [5 1 0 ... 4 2 3]\n",
      "0.8342439024390244\n",
      "Iteration:  310\n",
      "[5 1 0 ... 4 2 3] [5 1 0 ... 4 2 3]\n",
      "0.8369756097560975\n",
      "Iteration:  320\n",
      "[5 1 0 ... 4 2 3] [5 1 0 ... 4 2 3]\n",
      "0.8394634146341463\n",
      "Iteration:  330\n",
      "[5 1 0 ... 4 2 3] [5 1 0 ... 4 2 3]\n",
      "0.8414390243902439\n",
      "Iteration:  340\n",
      "[5 1 0 ... 4 2 3] [5 1 0 ... 4 2 3]\n",
      "0.843609756097561\n",
      "Iteration:  350\n",
      "[5 1 0 ... 4 2 3] [5 1 0 ... 4 2 3]\n",
      "0.8455609756097561\n",
      "Iteration:  360\n",
      "[5 1 0 ... 4 2 3] [5 1 0 ... 4 2 3]\n",
      "0.847170731707317\n",
      "Iteration:  370\n",
      "[5 1 0 ... 4 2 3] [5 1 0 ... 4 2 3]\n",
      "0.8493414634146341\n",
      "Iteration:  380\n",
      "[5 1 0 ... 4 2 3] [5 1 0 ... 4 2 3]\n",
      "0.8510731707317073\n",
      "Iteration:  390\n",
      "[5 1 0 ... 4 2 3] [5 1 0 ... 4 2 3]\n",
      "0.8527317073170732\n",
      "Iteration:  400\n",
      "[5 1 0 ... 4 2 3] [5 1 0 ... 4 2 3]\n",
      "0.8545853658536585\n",
      "Iteration:  410\n",
      "[5 1 0 ... 4 2 3] [5 1 0 ... 4 2 3]\n",
      "0.8559024390243902\n",
      "Iteration:  420\n",
      "[5 1 0 ... 4 2 3] [5 1 0 ... 4 2 3]\n",
      "0.8574878048780488\n",
      "Iteration:  430\n",
      "[5 1 0 ... 4 2 3] [5 1 0 ... 4 2 3]\n",
      "0.8587073170731707\n",
      "Iteration:  440\n",
      "[5 1 0 ... 4 2 3] [5 1 0 ... 4 2 3]\n",
      "0.8601951219512195\n",
      "Iteration:  450\n",
      "[5 1 0 ... 4 2 3] [5 1 0 ... 4 2 3]\n",
      "0.8613658536585366\n",
      "Iteration:  460\n",
      "[5 1 0 ... 4 2 3] [5 1 0 ... 4 2 3]\n",
      "0.8626829268292683\n",
      "Iteration:  470\n",
      "[5 1 0 ... 4 2 3] [5 1 0 ... 4 2 3]\n",
      "0.8639512195121951\n",
      "Iteration:  480\n",
      "[5 1 0 ... 4 2 3] [5 1 0 ... 4 2 3]\n",
      "0.8649512195121951\n",
      "Iteration:  490\n",
      "[5 1 0 ... 4 2 3] [5 1 0 ... 4 2 3]\n",
      "0.8660975609756097\n"
     ]
    }
   ],
   "source": [
    "W1, b1, W2, b2 = gradient_descent(X_train, Y_train, 0.14, 500)"
   ]
  },
  {
   "cell_type": "code",
   "execution_count": 7,
   "id": "d8e60b48",
   "metadata": {
    "execution": {
     "iopub.execute_input": "2024-07-09T04:06:24.010672Z",
     "iopub.status.busy": "2024-07-09T04:06:24.009989Z",
     "iopub.status.idle": "2024-07-09T04:06:24.024051Z",
     "shell.execute_reply": "2024-07-09T04:06:24.022862Z"
    },
    "papermill": {
     "duration": 0.040868,
     "end_time": "2024-07-09T04:06:24.028581",
     "exception": false,
     "start_time": "2024-07-09T04:06:23.987713",
     "status": "completed"
    },
    "tags": []
   },
   "outputs": [],
   "source": [
    "def make_predictions(X, W1, b1, W2, b2):\n",
    "    _, _, _, A2 = forward_prop(W1, b1, W2, b2, X)\n",
    "    predictions = get_predictions(A2)\n",
    "    return predictions\n",
    "\n",
    "def test_prediction(index, W1, b1, W2, b2):\n",
    "    current_image = X_train[:, index, None]\n",
    "    prediction = make_predictions(X_train[:, index, None], W1, b1, W2, b2)\n",
    "    label = Y_train[index]\n",
    "    print(\"Prediction: \", prediction)\n",
    "    print(\"Label: \", label)\n",
    "    \n",
    "    current_image = current_image.reshape((28, 28)) * 255\n",
    "    plt.gray()\n",
    "    plt.imshow(current_image, interpolation='nearest')\n",
    "    plt.show()"
   ]
  },
  {
   "cell_type": "code",
   "execution_count": 8,
   "id": "7be916c1",
   "metadata": {
    "execution": {
     "iopub.execute_input": "2024-07-09T04:06:24.069619Z",
     "iopub.status.busy": "2024-07-09T04:06:24.068961Z",
     "iopub.status.idle": "2024-07-09T04:06:24.879832Z",
     "shell.execute_reply": "2024-07-09T04:06:24.878411Z"
    },
    "papermill": {
     "duration": 0.834303,
     "end_time": "2024-07-09T04:06:24.882821",
     "exception": false,
     "start_time": "2024-07-09T04:06:24.048518",
     "status": "completed"
    },
    "tags": []
   },
   "outputs": [
    {
     "name": "stdout",
     "output_type": "stream",
     "text": [
      "Prediction:  [5]\n",
      "Label:  5\n"
     ]
    },
    {
     "data": {
      "image/png": "[encoded data removed]",
      "text/plain": [
       "<Figure size 640x480 with 1 Axes>"
      ]
     },
     "metadata": {},
     "output_type": "display_data"
    },
    {
     "name": "stdout",
     "output_type": "stream",
     "text": [
      "Prediction:  [1]\n",
      "Label:  1\n"
     ]
    },
    {
     "data": {
      "image/png": "[encoded data removed]",
      "text/plain": [
       "<Figure size 640x480 with 1 Axes>"
      ]
     },
     "metadata": {},
     "output_type": "display_data"
    },
    {
     "name": "stdout",
     "output_type": "stream",
     "text": [
      "Prediction:  [0]\n",
      "Label:  0\n"
     ]
    },
    {
     "data": {
      "image/png": "[encoded data removed]",
      "text/plain": [
       "<Figure size 640x480 with 1 Axes>"
      ]
     },
     "metadata": {},
     "output_type": "display_data"
    },
    {
     "name": "stdout",
     "output_type": "stream",
     "text": [
      "Prediction:  [7]\n",
      "Label:  7\n"
     ]
    },
    {
     "data": {
      "image/png": "[encoded data removed]",
      "text/plain": [
       "<Figure size 640x480 with 1 Axes>"
      ]
     },
     "metadata": {},
     "output_type": "display_data"
    }
   ],
   "source": [
    "test_prediction(0, W1, b1, W2, b2)\n",
    "test_prediction(1, W1, b1, W2, b2)\n",
    "test_prediction(2, W1, b1, W2, b2)\n",
    "test_prediction(3, W1, b1, W2, b2)"
   ]
  },
  {
   "cell_type": "code",
   "execution_count": 9,
   "id": "1c4da9f5",
   "metadata": {
    "execution": {
     "iopub.execute_input": "2024-07-09T04:06:24.905972Z",
     "iopub.status.busy": "2024-07-09T04:06:24.905550Z",
     "iopub.status.idle": "2024-07-09T04:06:24.935555Z",
     "shell.execute_reply": "2024-07-09T04:06:24.933413Z"
    },
    "papermill": {
     "duration": 0.046324,
     "end_time": "2024-07-09T04:06:24.939991",
     "exception": false,
     "start_time": "2024-07-09T04:06:24.893667",
     "status": "completed"
    },
    "tags": []
   },
   "outputs": [
    {
     "name": "stdout",
     "output_type": "stream",
     "text": [
      "[3 0 8 8 9 6 4 9 9 7 3 1 3 2 3 7 9 3 5 0 7 7 5 7 6 1 3 8 5 2 4 8 2 2 1 6 7\n",
      " 1 4 5 1 0 8 4 8 6 0 5 5 9 4 1 8 9 7 2 4 9 5 6 1 2 5 0 3 0 7 7 6 6 2 0 9 8\n",
      " 0 2 5 0 9 4 5 7 7 0 5 3 6 4 6 3 2 6 2 9 7 1 5 8 2 4 6 3 3 5 5 6 4 0 8 1 1\n",
      " 9 1 0 6 1 5 1 8 4 6 7 3 2 7 2 0 4 8 3 3 7 9 4 6 7 4 3 0 3 4 2 3 9 9 4 3 0\n",
      " 6 3 1 1 4 2 7 5 4 0 4 8 8 9 8 6 4 0 0 4 7 7 9 4 5 8 4 6 3 6 4 2 0 2 4 8 1\n",
      " 3 7 6 9 7 1 2 6 1 0 6 1 9 5 5 3 5 8 1 0 2 1 7 0 4 9 9 8 9 6 6 2 7 9 1 9 5\n",
      " 8 4 7 6 5 9 0 8 3 3 9 7 1 5 4 9 1 3 4 9 2 0 6 0 7 9 0 8 5 9 7 6 9 5 8 1 4\n",
      " 1 4 8 9 9 9 6 1 6 8 9 1 2 1 8 9 0 5 4 4 7 0 4 9 3 7 2 5 9 1 2 0 8 8 8 9 4\n",
      " 1 8 7 6 8 9 6 2 3 0 3 4 6 9 3 4 4 7 6 2 8 0 5 1 6 2 7 1 6 3 1 6 2 6 3 2 1\n",
      " 7 0 3 9 8 7 3 5 7 2 0 1 9 1 6 1 1 7 0 8 8 3 6 5 8 1 3 4 5 4 0 3 1 2 7 1 5\n",
      " 9 4 1 0 3 9 1 2 6 4 3 5 2 2 7 7 2 5 0 3 9 3 5 1 6 8 0 3 2 6 0 5 2 4 8 9 2\n",
      " 2 9 7 8 3 0 1 0 5 3 7 7 8 3 4 1 9 0 3 8 4 6 6 0 2 3 8 2 3 3 2 3 6 6 2 3 9\n",
      " 0 1 8 2 0 8 2 0 0 2 7 8 9 5 8 3 5 1 0 7 6 2 9 1 1 2 2 3 2 3 6 7 1 4 5 8 2\n",
      " 2 3 2 1 9 4 2 3 0 0 1 3 9 6 6 5 3 8 0 4 0 2 2 5 8 6 1 7 4 0 3 9 7 8 3 2 9\n",
      " 6 9 8 5 1 4 1 6 6 4 1 2 3 9 5 1 8 1 8 4 1 9 8 6 2 6 4 8 7 0 1 4 8 6 5 2 6\n",
      " 6 9 7 5 5 8 4 3 7 5 4 7 7 0 4 3 3 7 6 6 4 6 2 7 2 0 8 4 3 9 6 7 7 6 3 7 1\n",
      " 1 5 4 3 1 1 8 0 9 7 7 1 2 1 7 9 3 0 3 9 6 5 4 0 0 4 9 6 5 8 3 8 2 7 6 8 9\n",
      " 9 1 0 9 3 6 1 1 2 9 0 9 1 7 1 8 7 1 9 8 0 7 7 6 2 0 0 8 2 1 5 8 5 7 1 8 8\n",
      " 2 6 3 4 8 5 0 1 2 3 9 1 1 0 7 8 3 0 5 7 2 9 5 3 8 2 0 9 6 6 1 1 6 6 7 0 4\n",
      " 2 3 4 4 6 6 4 6 4 4 3 8 6 8 1 4 7 1 4 5 0 4 7 6 0 6 9 1 9 2 1 7 8 6 3 4 2\n",
      " 1 0 7 0 7 7 6 8 0 0 4 5 9 4 0 1 5 3 5 2 9 4 1 7 2 6 8 4 0 8 8 9 1 6 6 4 1\n",
      " 8 0 0 2 8 6 1 7 9 9 5 9 8 1 7 2 6 4 8 0 3 4 7 9 2 0 0 6 8 1 7 9 2 7 8 7 2\n",
      " 9 1 9 5 9 2 4 9 6 2 6 0 7 9 0 2 4 7 5 6 2 8 1 9 1 1 1 4 0 7 3 2 2 2 0 3 9\n",
      " 8 8 9 5 7 2 5 9 9 9 1 8 6 6 4 6 2 5 5 7 3 3 8 3 7 8 9 7 5 9 7 7 7 1 2 8 9\n",
      " 1 3 4 5 3 8 3 2 7 7 6 7 9 7 4 5 7 3 5 7 0 1 6 1 7 2 5 8 5 7 5 4 1 3 1 3 4\n",
      " 4 1 9 5 2 9 3 6 5 9 4 4 5 5 7 4 0 0 7 9 1 2 4 9 3 9 9 0 4 3 2 6 0 7 7 0 8\n",
      " 6 7 9 0 9 1 5 0 3 5 8 5 9 9 4 8 2 8 8 2 1 3 3 6 1 3 9 3 6 6 5 4 8 4 6 8 4\n",
      " 2] [3 0 8 8 9 0 4 4 9 7 3 1 3 2 3 7 9 5 5 0 7 7 0 7 9 1 3 8 5 2 4 8 2 4 1 6 7\n",
      " 1 9 5 1 0 2 4 8 6 0 3 5 9 0 1 8 9 7 2 4 9 5 6 1 3 5 5 5 6 7 7 6 6 2 0 9 8\n",
      " 6 8 0 0 9 4 5 7 9 6 0 5 6 4 6 5 2 6 2 7 7 1 3 8 2 3 6 3 3 5 5 6 4 3 1 1 1\n",
      " 8 1 0 6 1 5 1 8 4 6 7 3 2 7 2 0 4 8 3 3 7 9 4 6 7 4 3 0 3 4 2 3 9 9 4 3 0\n",
      " 6 3 5 1 4 2 7 3 4 0 4 8 5 7 8 6 4 0 0 4 7 8 9 4 5 8 4 3 3 6 4 2 0 4 4 8 1\n",
      " 3 7 6 9 7 1 2 6 1 0 6 1 8 5 8 3 5 8 1 0 2 8 7 0 4 9 9 8 9 6 6 2 7 4 1 7 5\n",
      " 8 4 7 6 5 9 0 8 3 3 7 7 1 3 4 9 1 3 4 9 8 0 2 0 3 9 0 8 5 8 9 6 9 5 8 1 4\n",
      " 1 4 8 9 9 4 6 1 6 4 9 1 2 1 8 9 0 5 4 4 7 0 4 9 3 7 2 5 9 1 2 0 8 8 8 9 4\n",
      " 1 2 7 6 8 9 6 2 3 0 3 4 6 9 3 4 4 7 6 2 8 0 5 1 6 2 7 1 6 3 1 6 2 6 3 2 1\n",
      " 9 0 8 9 8 7 3 5 7 2 0 1 9 1 1 1 1 7 0 8 8 3 6 5 8 1 9 4 5 4 0 3 1 2 7 1 5\n",
      " 9 4 6 0 5 9 1 1 6 4 5 5 2 2 7 7 2 5 0 5 9 3 5 1 6 8 0 3 2 6 0 5 2 1 8 9 2\n",
      " 2 9 7 8 3 0 1 0 3 5 7 7 8 3 4 1 9 0 3 8 4 6 6 0 2 3 8 2 3 3 2 5 6 6 2 9 9\n",
      " 0 1 8 4 0 8 2 0 0 3 7 8 4 8 8 3 5 1 0 7 6 2 9 1 1 2 2 8 2 3 6 7 1 4 5 8 2\n",
      " 2 3 2 1 4 4 2 3 0 0 1 5 7 6 6 5 3 8 0 9 0 2 2 5 8 6 1 7 4 0 3 9 7 6 3 2 9\n",
      " 6 7 0 8 1 4 1 6 6 2 1 2 5 9 5 1 8 1 8 4 1 9 8 6 2 6 4 8 7 0 1 4 8 6 5 2 6\n",
      " 6 9 7 5 5 5 4 3 7 5 4 7 7 0 6 8 3 7 6 6 4 6 2 7 2 0 8 4 3 7 6 7 7 6 3 7 1\n",
      " 5 5 4 3 8 1 7 0 4 7 7 1 2 2 7 9 3 0 3 4 6 5 4 0 0 4 9 6 5 8 3 8 2 7 8 8 9\n",
      " 9 1 0 4 3 6 1 1 2 9 3 9 1 7 8 8 7 1 9 8 0 7 7 6 2 0 0 8 2 1 5 8 8 7 1 8 2\n",
      " 2 6 1 4 8 7 0 1 2 3 9 8 1 0 7 8 3 0 5 7 5 9 5 3 8 2 0 9 6 6 8 1 6 6 7 0 4\n",
      " 5 3 4 4 6 6 4 6 4 4 3 3 6 5 1 4 7 1 4 8 2 4 7 6 0 6 9 1 9 2 1 7 8 6 3 4 2\n",
      " 1 0 7 0 7 7 6 8 0 0 4 3 9 4 0 8 5 3 5 2 9 4 1 7 3 6 8 4 0 8 8 7 1 6 6 4 2\n",
      " 8 0 0 2 2 2 1 7 9 9 5 9 8 1 7 2 6 4 8 0 3 4 7 9 0 0 0 6 8 1 7 9 2 7 7 7 8\n",
      " 7 1 9 5 9 2 4 9 6 2 6 0 7 9 0 2 9 7 5 6 3 8 1 9 1 1 1 4 0 7 3 6 8 2 0 8 9\n",
      " 8 2 9 5 7 2 5 7 9 8 1 2 6 9 7 6 2 6 5 7 3 5 8 3 1 8 9 7 5 9 7 9 7 1 2 8 9\n",
      " 1 3 4 5 3 8 3 2 7 7 2 7 9 7 4 5 7 3 5 7 0 1 6 1 7 2 3 8 5 7 5 4 1 3 1 2 4\n",
      " 4 1 4 6 2 9 3 6 5 9 4 4 5 5 7 4 0 0 2 2 1 2 9 9 3 9 9 0 4 3 2 6 5 7 7 3 8\n",
      " 6 7 7 0 9 1 5 0 3 5 8 5 7 9 4 8 2 8 8 8 1 3 3 6 1 3 9 3 6 6 5 4 1 4 6 8 4\n",
      " 2]\n"
     ]
    },
    {
     "data": {
      "text/plain": [
       "0.855"
      ]
     },
     "execution_count": 9,
     "metadata": {},
     "output_type": "execute_result"
    }
   ],
   "source": [
    "dev_predictions = make_predictions(X_dev, W1, b1, W2, b2)\n",
    "get_accuracy(dev_predictions, Y_dev)"
   ]
  }
 ],
 "metadata": {
  "kaggle": {
   "accelerator": "none",
   "dataSources": [
    {
     "databundleVersionId": 861823,
     "sourceId": 3004,
     "sourceType": "competition"
    }
   ],
   "dockerImageVersionId": 30732,
   "isGpuEnabled": false,
   "isInternetEnabled": true,
   "language": "python",
   "sourceType": "notebook"
  },
  "kernelspec": {
   "display_name": "Python 3",
   "language": "python",
   "name": "python3"
  },
  "language_info": {
   "codemirror_mode": {
    "name": "ipython",
    "version": 3
   },
   "file_extension": ".py",
   "mimetype": "text/x-python",
   "name": "python",
   "nbconvert_exporter": "python",
   "pygments_lexer": "ipython3",
   "version": "3.10.13"
  },
  "papermill": {
   "default_parameters": {},
   "duration": 70.987642,
   "end_time": "2024-07-09T04:06:25.487447",
   "environment_variables": {},
   "exception": null,
   "input_path": "__notebook__.ipynb",
   "output_path": "__notebook__.ipynb",
   "parameters": {},
   "start_time": "2024-07-09T04:05:14.499805",
   "version": "2.5.0"
  }
 },
 "nbformat": 4,
 "nbformat_minor": 5
}
